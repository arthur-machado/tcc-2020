{
 "cells": [
  {
   "cell_type": "code",
   "execution_count": 1,
   "metadata": {},
   "outputs": [],
   "source": [
    "import pandas as pd\n",
    "import numpy as np"
   ]
  },
  {
   "cell_type": "code",
   "execution_count": 2,
   "metadata": {},
   "outputs": [],
   "source": [
    "df = pd.read_csv('datasetDog_v.3_WithActivity.csv')"
   ]
  },
  {
   "cell_type": "code",
   "execution_count": 3,
   "metadata": {},
   "outputs": [
    {
     "data": {
      "text/plain": [
       "(1548, 9)"
      ]
     },
     "execution_count": 3,
     "metadata": {},
     "output_type": "execute_result"
    }
   ],
   "source": [
    "df.shape"
   ]
  },
  {
   "cell_type": "code",
   "execution_count": 4,
   "metadata": {},
   "outputs": [
    {
     "data": {
      "text/html": [
       "<div>\n",
       "<style scoped>\n",
       "    .dataframe tbody tr th:only-of-type {\n",
       "        vertical-align: middle;\n",
       "    }\n",
       "\n",
       "    .dataframe tbody tr th {\n",
       "        vertical-align: top;\n",
       "    }\n",
       "\n",
       "    .dataframe thead th {\n",
       "        text-align: right;\n",
       "    }\n",
       "</style>\n",
       "<table border=\"1\" class=\"dataframe\">\n",
       "  <thead>\n",
       "    <tr style=\"text-align: right;\">\n",
       "      <th></th>\n",
       "      <th>time_window</th>\n",
       "      <th>device</th>\n",
       "      <th>absolute_deviation</th>\n",
       "      <th>standard_deviation</th>\n",
       "      <th>arithmetic_average</th>\n",
       "      <th>RMS</th>\n",
       "      <th>median</th>\n",
       "      <th>variance</th>\n",
       "      <th>activity</th>\n",
       "    </tr>\n",
       "  </thead>\n",
       "  <tbody>\n",
       "    <tr>\n",
       "      <th>0</th>\n",
       "      <td>14:36:38</td>\n",
       "      <td>accX</td>\n",
       "      <td>0.1040</td>\n",
       "      <td>0.124036</td>\n",
       "      <td>65.000</td>\n",
       "      <td>0.140036</td>\n",
       "      <td>0.090</td>\n",
       "      <td>0.015385</td>\n",
       "      <td>stopped</td>\n",
       "    </tr>\n",
       "    <tr>\n",
       "      <th>1</th>\n",
       "      <td>14:36:38</td>\n",
       "      <td>accY</td>\n",
       "      <td>0.0282</td>\n",
       "      <td>0.036069</td>\n",
       "      <td>-0.007</td>\n",
       "      <td>0.036742</td>\n",
       "      <td>-0.020</td>\n",
       "      <td>0.001301</td>\n",
       "      <td>stopped</td>\n",
       "    </tr>\n",
       "    <tr>\n",
       "      <th>2</th>\n",
       "      <td>14:36:38</td>\n",
       "      <td>accZ</td>\n",
       "      <td>0.0320</td>\n",
       "      <td>0.043417</td>\n",
       "      <td>925.000</td>\n",
       "      <td>0.926018</td>\n",
       "      <td>0.930</td>\n",
       "      <td>0.001885</td>\n",
       "      <td>stopped</td>\n",
       "    </tr>\n",
       "    <tr>\n",
       "      <th>3</th>\n",
       "      <td>14:36:38</td>\n",
       "      <td>girX</td>\n",
       "      <td>12748.0000</td>\n",
       "      <td>16.690349</td>\n",
       "      <td>-5.710</td>\n",
       "      <td>17.640063</td>\n",
       "      <td>-0.055</td>\n",
       "      <td>278.567740</td>\n",
       "      <td>stopped</td>\n",
       "    </tr>\n",
       "    <tr>\n",
       "      <th>4</th>\n",
       "      <td>14:36:38</td>\n",
       "      <td>girY</td>\n",
       "      <td>33.1768</td>\n",
       "      <td>49.317552</td>\n",
       "      <td>-14892.000</td>\n",
       "      <td>51.516916</td>\n",
       "      <td>195.000</td>\n",
       "      <td>2432.220956</td>\n",
       "      <td>stopped</td>\n",
       "    </tr>\n",
       "  </tbody>\n",
       "</table>\n",
       "</div>"
      ],
      "text/plain": [
       "  time_window device  absolute_deviation  standard_deviation  \\\n",
       "0    14:36:38   accX              0.1040            0.124036   \n",
       "1    14:36:38   accY              0.0282            0.036069   \n",
       "2    14:36:38   accZ              0.0320            0.043417   \n",
       "3    14:36:38   girX          12748.0000           16.690349   \n",
       "4    14:36:38   girY             33.1768           49.317552   \n",
       "\n",
       "   arithmetic_average        RMS   median     variance activity  \n",
       "0              65.000   0.140036    0.090     0.015385  stopped  \n",
       "1              -0.007   0.036742   -0.020     0.001301  stopped  \n",
       "2             925.000   0.926018    0.930     0.001885  stopped  \n",
       "3              -5.710  17.640063   -0.055   278.567740  stopped  \n",
       "4          -14892.000  51.516916  195.000  2432.220956  stopped  "
      ]
     },
     "execution_count": 4,
     "metadata": {},
     "output_type": "execute_result"
    }
   ],
   "source": [
    "df.head(5)"
   ]
  },
  {
   "cell_type": "code",
   "execution_count": 5,
   "metadata": {},
   "outputs": [
    {
     "data": {
      "text/plain": [
       "False"
      ]
     },
     "execution_count": 5,
     "metadata": {},
     "output_type": "execute_result"
    }
   ],
   "source": [
    "df.isnull().values.any()"
   ]
  },
  {
   "cell_type": "code",
   "execution_count": 6,
   "metadata": {},
   "outputs": [],
   "source": [
    "map_activity = {'sitting':0, 'running':1, 'walking':2, 'jumping':3, 'lying_down':4, 'stopped':5}"
   ]
  },
  {
   "cell_type": "code",
   "execution_count": 7,
   "metadata": {},
   "outputs": [],
   "source": [
    "df['activity'] = df['activity'].map(map_activity)"
   ]
  },
  {
   "cell_type": "code",
   "execution_count": 8,
   "metadata": {},
   "outputs": [
    {
     "data": {
      "text/html": [
       "<div>\n",
       "<style scoped>\n",
       "    .dataframe tbody tr th:only-of-type {\n",
       "        vertical-align: middle;\n",
       "    }\n",
       "\n",
       "    .dataframe tbody tr th {\n",
       "        vertical-align: top;\n",
       "    }\n",
       "\n",
       "    .dataframe thead th {\n",
       "        text-align: right;\n",
       "    }\n",
       "</style>\n",
       "<table border=\"1\" class=\"dataframe\">\n",
       "  <thead>\n",
       "    <tr style=\"text-align: right;\">\n",
       "      <th></th>\n",
       "      <th>time_window</th>\n",
       "      <th>device</th>\n",
       "      <th>absolute_deviation</th>\n",
       "      <th>standard_deviation</th>\n",
       "      <th>arithmetic_average</th>\n",
       "      <th>RMS</th>\n",
       "      <th>median</th>\n",
       "      <th>variance</th>\n",
       "      <th>activity</th>\n",
       "    </tr>\n",
       "  </thead>\n",
       "  <tbody>\n",
       "    <tr>\n",
       "      <th>0</th>\n",
       "      <td>14:36:38</td>\n",
       "      <td>accX</td>\n",
       "      <td>0.1040</td>\n",
       "      <td>0.124036</td>\n",
       "      <td>65.000</td>\n",
       "      <td>0.140036</td>\n",
       "      <td>0.090</td>\n",
       "      <td>0.015385</td>\n",
       "      <td>5</td>\n",
       "    </tr>\n",
       "    <tr>\n",
       "      <th>1</th>\n",
       "      <td>14:36:38</td>\n",
       "      <td>accY</td>\n",
       "      <td>0.0282</td>\n",
       "      <td>0.036069</td>\n",
       "      <td>-0.007</td>\n",
       "      <td>0.036742</td>\n",
       "      <td>-0.020</td>\n",
       "      <td>0.001301</td>\n",
       "      <td>5</td>\n",
       "    </tr>\n",
       "    <tr>\n",
       "      <th>2</th>\n",
       "      <td>14:36:38</td>\n",
       "      <td>accZ</td>\n",
       "      <td>0.0320</td>\n",
       "      <td>0.043417</td>\n",
       "      <td>925.000</td>\n",
       "      <td>0.926018</td>\n",
       "      <td>0.930</td>\n",
       "      <td>0.001885</td>\n",
       "      <td>5</td>\n",
       "    </tr>\n",
       "    <tr>\n",
       "      <th>3</th>\n",
       "      <td>14:36:38</td>\n",
       "      <td>girX</td>\n",
       "      <td>12748.0000</td>\n",
       "      <td>16.690349</td>\n",
       "      <td>-5.710</td>\n",
       "      <td>17.640063</td>\n",
       "      <td>-0.055</td>\n",
       "      <td>278.567740</td>\n",
       "      <td>5</td>\n",
       "    </tr>\n",
       "    <tr>\n",
       "      <th>4</th>\n",
       "      <td>14:36:38</td>\n",
       "      <td>girY</td>\n",
       "      <td>33.1768</td>\n",
       "      <td>49.317552</td>\n",
       "      <td>-14892.000</td>\n",
       "      <td>51.516916</td>\n",
       "      <td>195.000</td>\n",
       "      <td>2432.220956</td>\n",
       "      <td>5</td>\n",
       "    </tr>\n",
       "    <tr>\n",
       "      <th>5</th>\n",
       "      <td>14:36:38</td>\n",
       "      <td>girZ</td>\n",
       "      <td>9.7610</td>\n",
       "      <td>14.912854</td>\n",
       "      <td>1.237</td>\n",
       "      <td>14.964069</td>\n",
       "      <td>1.560</td>\n",
       "      <td>222.393201</td>\n",
       "      <td>5</td>\n",
       "    </tr>\n",
       "  </tbody>\n",
       "</table>\n",
       "</div>"
      ],
      "text/plain": [
       "  time_window device  absolute_deviation  standard_deviation  \\\n",
       "0    14:36:38   accX              0.1040            0.124036   \n",
       "1    14:36:38   accY              0.0282            0.036069   \n",
       "2    14:36:38   accZ              0.0320            0.043417   \n",
       "3    14:36:38   girX          12748.0000           16.690349   \n",
       "4    14:36:38   girY             33.1768           49.317552   \n",
       "5    14:36:38   girZ              9.7610           14.912854   \n",
       "\n",
       "   arithmetic_average        RMS   median     variance  activity  \n",
       "0              65.000   0.140036    0.090     0.015385         5  \n",
       "1              -0.007   0.036742   -0.020     0.001301         5  \n",
       "2             925.000   0.926018    0.930     0.001885         5  \n",
       "3              -5.710  17.640063   -0.055   278.567740         5  \n",
       "4          -14892.000  51.516916  195.000  2432.220956         5  \n",
       "5               1.237  14.964069    1.560   222.393201         5  "
      ]
     },
     "execution_count": 8,
     "metadata": {},
     "output_type": "execute_result"
    }
   ],
   "source": [
    "df.head(6)"
   ]
  },
  {
   "cell_type": "code",
   "execution_count": 9,
   "metadata": {},
   "outputs": [],
   "source": [
    "from sklearn.model_selection import train_test_split"
   ]
  },
  {
   "cell_type": "code",
   "execution_count": 10,
   "metadata": {},
   "outputs": [],
   "source": [
    "features = ['absolute_deviation', 'standard_deviation', 'arithmetic_average', 'RMS', 'median', 'variance']"
   ]
  },
  {
   "cell_type": "code",
   "execution_count": 11,
   "metadata": {},
   "outputs": [],
   "source": [
    "pred = ['activity']"
   ]
  },
  {
   "cell_type": "code",
   "execution_count": 12,
   "metadata": {},
   "outputs": [],
   "source": [
    "X = df[features].values\n",
    "Y = df[pred].values"
   ]
  },
  {
   "cell_type": "code",
   "execution_count": 13,
   "metadata": {},
   "outputs": [],
   "source": [
    "split_size = 0.20"
   ]
  },
  {
   "cell_type": "code",
   "execution_count": 14,
   "metadata": {},
   "outputs": [],
   "source": [
    "X_treino, X_teste, Y_treino, Y_teste = train_test_split(X, Y, test_size = split_size, random_state=1)"
   ]
  },
  {
   "cell_type": "code",
   "execution_count": 15,
   "metadata": {},
   "outputs": [],
   "source": [
    "from sklearn.impute import SimpleImputer"
   ]
  },
  {
   "cell_type": "code",
   "execution_count": 16,
   "metadata": {},
   "outputs": [],
   "source": [
    "preenche_0 = SimpleImputer(missing_values=0, strategy='mean')\n",
    "\n",
    "X_treino = preenche_0.fit_transform(X_treino)\n",
    "X_teste = preenche_0.fit_transform(X_teste)"
   ]
  },
  {
   "cell_type": "code",
   "execution_count": 17,
   "metadata": {},
   "outputs": [
    {
     "data": {
      "text/plain": [
       "DecisionTreeClassifier()"
      ]
     },
     "execution_count": 17,
     "metadata": {},
     "output_type": "execute_result"
    }
   ],
   "source": [
    "from sklearn import tree\n",
    "clf = tree.DecisionTreeClassifier()\n",
    "clf.fit(X_treino, Y_treino)"
   ]
  },
  {
   "cell_type": "code",
   "execution_count": 18,
   "metadata": {},
   "outputs": [
    {
     "data": {
      "text/plain": [
       "array([5, 0, 5, 2, 5, 5, 4, 4, 4, 5, 2, 4, 5, 5, 5, 2, 2, 0, 5, 2, 4, 2,\n",
       "       4, 4, 5, 2, 4, 4, 2, 5, 5, 5, 4, 4, 5, 4, 2, 2, 5, 2, 5, 4, 2, 2,\n",
       "       0, 2, 5, 4, 2, 2, 5, 5, 4, 3, 2, 2, 4, 2, 5, 0, 3, 5, 4, 4, 0, 3,\n",
       "       4, 5, 5, 3, 5, 2, 2, 0, 5, 5, 4, 5, 2, 4, 4, 4, 4, 2, 5, 5, 5, 2,\n",
       "       2, 5, 2, 5, 4, 5, 4, 3, 4, 2, 2, 4, 4, 4, 2, 4, 2, 2, 2, 2, 5, 5,\n",
       "       0, 5, 0, 2, 5, 2, 2, 0, 3, 4, 4, 4, 3, 5, 2, 4, 5, 2, 4, 4, 5, 2,\n",
       "       5, 5, 4, 2, 2, 4, 5, 2, 2, 5, 5, 2, 2, 5, 3, 4, 4, 2, 3, 5, 4, 3,\n",
       "       2, 4, 3, 2, 0, 2, 4, 0, 2, 2, 3, 4, 5, 2, 5, 5, 5, 2, 3, 2, 2, 4,\n",
       "       0, 3, 5, 4, 2, 5, 2, 5, 5, 5, 4, 2, 5, 5, 2, 2, 4, 3, 4, 2, 3, 5,\n",
       "       2, 4, 5, 2, 5, 4, 3, 2, 2, 5, 4, 2, 5, 4, 2, 3, 3, 4, 2, 2, 4, 2,\n",
       "       0, 4, 5, 5, 4, 2, 2, 2, 5, 0, 2, 2, 5, 4, 3, 5, 2, 5, 4, 4, 3, 5,\n",
       "       4, 4, 5, 2, 2, 2, 2, 4, 5, 2, 5, 0, 4, 2, 4, 2, 5, 4, 4, 3, 2, 4,\n",
       "       2, 5, 2, 5, 5, 4, 4, 4, 2, 2, 4, 5, 0, 3, 2, 2, 4, 4, 4, 5, 0, 2,\n",
       "       2, 5, 2, 2, 5, 3, 3, 2, 2, 2, 4, 5, 5, 4, 2, 4, 4, 5, 2, 2, 2, 4,\n",
       "       2, 5], dtype=int64)"
      ]
     },
     "execution_count": 18,
     "metadata": {},
     "output_type": "execute_result"
    }
   ],
   "source": [
    "clf.predict(X_teste)"
   ]
  },
  {
   "cell_type": "code",
   "execution_count": 27,
   "metadata": {},
   "outputs": [
    {
     "data": {
      "text/plain": [
       "0.9709677419354839"
      ]
     },
     "execution_count": 27,
     "metadata": {},
     "output_type": "execute_result"
    }
   ],
   "source": [
    "clf.score(X_teste, Y_teste)"
   ]
  }
 ],
 "metadata": {
  "kernelspec": {
   "display_name": "Python 3",
   "language": "python",
   "name": "python3"
  },
  "language_info": {
   "codemirror_mode": {
    "name": "ipython",
    "version": 3
   },
   "file_extension": ".py",
   "mimetype": "text/x-python",
   "name": "python",
   "nbconvert_exporter": "python",
   "pygments_lexer": "ipython3",
   "version": "3.8.3"
  }
 },
 "nbformat": 4,
 "nbformat_minor": 4
}
