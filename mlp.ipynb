{
 "cells": [
  {
   "cell_type": "code",
   "execution_count": 1,
   "metadata": {},
   "outputs": [],
   "source": [
    "import pandas as pd\n",
    "import numpy as np"
   ]
  },
  {
   "cell_type": "code",
   "execution_count": 2,
   "metadata": {},
   "outputs": [],
   "source": [
    "df = pd.read_csv('datasetDog_v.2_WithActivity.csv')"
   ]
  },
  {
   "cell_type": "code",
   "execution_count": 3,
   "metadata": {},
   "outputs": [
    {
     "data": {
      "text/plain": [
       "(516, 9)"
      ]
     },
     "execution_count": 3,
     "metadata": {},
     "output_type": "execute_result"
    }
   ],
   "source": [
    "df.shape"
   ]
  },
  {
   "cell_type": "code",
   "execution_count": 4,
   "metadata": {},
   "outputs": [
    {
     "data": {
      "text/html": [
       "<div>\n",
       "<style scoped>\n",
       "    .dataframe tbody tr th:only-of-type {\n",
       "        vertical-align: middle;\n",
       "    }\n",
       "\n",
       "    .dataframe tbody tr th {\n",
       "        vertical-align: top;\n",
       "    }\n",
       "\n",
       "    .dataframe thead th {\n",
       "        text-align: right;\n",
       "    }\n",
       "</style>\n",
       "<table border=\"1\" class=\"dataframe\">\n",
       "  <thead>\n",
       "    <tr style=\"text-align: right;\">\n",
       "      <th></th>\n",
       "      <th>time_window</th>\n",
       "      <th>device</th>\n",
       "      <th>absolute_deviation</th>\n",
       "      <th>standard_deviation</th>\n",
       "      <th>arithmetic_average</th>\n",
       "      <th>RMS</th>\n",
       "      <th>median</th>\n",
       "      <th>variance</th>\n",
       "      <th>activity</th>\n",
       "    </tr>\n",
       "  </thead>\n",
       "  <tbody>\n",
       "    <tr>\n",
       "      <th>0</th>\n",
       "      <td>14:36:38</td>\n",
       "      <td>accX</td>\n",
       "      <td>0.1040</td>\n",
       "      <td>0.124036</td>\n",
       "      <td>65.000</td>\n",
       "      <td>0.140036</td>\n",
       "      <td>0.090</td>\n",
       "      <td>0.015385</td>\n",
       "      <td>stopped</td>\n",
       "    </tr>\n",
       "    <tr>\n",
       "      <th>1</th>\n",
       "      <td>14:36:38</td>\n",
       "      <td>accY</td>\n",
       "      <td>0.0282</td>\n",
       "      <td>0.036069</td>\n",
       "      <td>-0.007</td>\n",
       "      <td>0.036742</td>\n",
       "      <td>-0.020</td>\n",
       "      <td>0.001301</td>\n",
       "      <td>stopped</td>\n",
       "    </tr>\n",
       "    <tr>\n",
       "      <th>2</th>\n",
       "      <td>14:36:38</td>\n",
       "      <td>accZ</td>\n",
       "      <td>0.0320</td>\n",
       "      <td>0.043417</td>\n",
       "      <td>925.000</td>\n",
       "      <td>0.926018</td>\n",
       "      <td>0.930</td>\n",
       "      <td>0.001885</td>\n",
       "      <td>stopped</td>\n",
       "    </tr>\n",
       "    <tr>\n",
       "      <th>3</th>\n",
       "      <td>14:36:38</td>\n",
       "      <td>girX</td>\n",
       "      <td>12748.0000</td>\n",
       "      <td>16.690349</td>\n",
       "      <td>-5.710</td>\n",
       "      <td>17.640063</td>\n",
       "      <td>-0.055</td>\n",
       "      <td>278.567740</td>\n",
       "      <td>stopped</td>\n",
       "    </tr>\n",
       "    <tr>\n",
       "      <th>4</th>\n",
       "      <td>14:36:38</td>\n",
       "      <td>girY</td>\n",
       "      <td>33.1768</td>\n",
       "      <td>49.317552</td>\n",
       "      <td>-14892.000</td>\n",
       "      <td>51.516916</td>\n",
       "      <td>195.000</td>\n",
       "      <td>2432.220956</td>\n",
       "      <td>stopped</td>\n",
       "    </tr>\n",
       "  </tbody>\n",
       "</table>\n",
       "</div>"
      ],
      "text/plain": [
       "  time_window device  absolute_deviation  standard_deviation  \\\n",
       "0    14:36:38   accX              0.1040            0.124036   \n",
       "1    14:36:38   accY              0.0282            0.036069   \n",
       "2    14:36:38   accZ              0.0320            0.043417   \n",
       "3    14:36:38   girX          12748.0000           16.690349   \n",
       "4    14:36:38   girY             33.1768           49.317552   \n",
       "\n",
       "   arithmetic_average        RMS   median     variance activity  \n",
       "0              65.000   0.140036    0.090     0.015385  stopped  \n",
       "1              -0.007   0.036742   -0.020     0.001301  stopped  \n",
       "2             925.000   0.926018    0.930     0.001885  stopped  \n",
       "3              -5.710  17.640063   -0.055   278.567740  stopped  \n",
       "4          -14892.000  51.516916  195.000  2432.220956  stopped  "
      ]
     },
     "execution_count": 4,
     "metadata": {},
     "output_type": "execute_result"
    }
   ],
   "source": [
    "df.head(5)"
   ]
  },
  {
   "cell_type": "code",
   "execution_count": 5,
   "metadata": {},
   "outputs": [
    {
     "data": {
      "text/html": [
       "<div>\n",
       "<style scoped>\n",
       "    .dataframe tbody tr th:only-of-type {\n",
       "        vertical-align: middle;\n",
       "    }\n",
       "\n",
       "    .dataframe tbody tr th {\n",
       "        vertical-align: top;\n",
       "    }\n",
       "\n",
       "    .dataframe thead th {\n",
       "        text-align: right;\n",
       "    }\n",
       "</style>\n",
       "<table border=\"1\" class=\"dataframe\">\n",
       "  <thead>\n",
       "    <tr style=\"text-align: right;\">\n",
       "      <th></th>\n",
       "      <th>time_window</th>\n",
       "      <th>device</th>\n",
       "      <th>absolute_deviation</th>\n",
       "      <th>standard_deviation</th>\n",
       "      <th>arithmetic_average</th>\n",
       "      <th>RMS</th>\n",
       "      <th>median</th>\n",
       "      <th>variance</th>\n",
       "      <th>activity</th>\n",
       "    </tr>\n",
       "  </thead>\n",
       "  <tbody>\n",
       "    <tr>\n",
       "      <th>511</th>\n",
       "      <td>15:17:00</td>\n",
       "      <td>accY</td>\n",
       "      <td>0.1200</td>\n",
       "      <td>0.154648</td>\n",
       "      <td>-0.052</td>\n",
       "      <td>0.163156</td>\n",
       "      <td>-0.050</td>\n",
       "      <td>0.023916</td>\n",
       "      <td>walking</td>\n",
       "    </tr>\n",
       "    <tr>\n",
       "      <th>512</th>\n",
       "      <td>15:17:00</td>\n",
       "      <td>accZ</td>\n",
       "      <td>0.1548</td>\n",
       "      <td>0.191165</td>\n",
       "      <td>666.000</td>\n",
       "      <td>0.692892</td>\n",
       "      <td>685.000</td>\n",
       "      <td>0.036544</td>\n",
       "      <td>walking</td>\n",
       "    </tr>\n",
       "    <tr>\n",
       "      <th>513</th>\n",
       "      <td>15:17:00</td>\n",
       "      <td>girX</td>\n",
       "      <td>21.2392</td>\n",
       "      <td>26.346267</td>\n",
       "      <td>6.916</td>\n",
       "      <td>27.238885</td>\n",
       "      <td>1.445</td>\n",
       "      <td>694.125804</td>\n",
       "      <td>walking</td>\n",
       "    </tr>\n",
       "    <tr>\n",
       "      <th>514</th>\n",
       "      <td>15:17:00</td>\n",
       "      <td>girY</td>\n",
       "      <td>14.7552</td>\n",
       "      <td>17.696525</td>\n",
       "      <td>7.036</td>\n",
       "      <td>19.043957</td>\n",
       "      <td>1465.000</td>\n",
       "      <td>313.166984</td>\n",
       "      <td>walking</td>\n",
       "    </tr>\n",
       "    <tr>\n",
       "      <th>515</th>\n",
       "      <td>15:17:00</td>\n",
       "      <td>girZ</td>\n",
       "      <td>10.8792</td>\n",
       "      <td>17.882549</td>\n",
       "      <td>3.546</td>\n",
       "      <td>18.230734</td>\n",
       "      <td>1.885</td>\n",
       "      <td>319.785544</td>\n",
       "      <td>walking</td>\n",
       "    </tr>\n",
       "  </tbody>\n",
       "</table>\n",
       "</div>"
      ],
      "text/plain": [
       "    time_window device  absolute_deviation  standard_deviation  \\\n",
       "511    15:17:00   accY              0.1200            0.154648   \n",
       "512    15:17:00   accZ              0.1548            0.191165   \n",
       "513    15:17:00   girX             21.2392           26.346267   \n",
       "514    15:17:00   girY             14.7552           17.696525   \n",
       "515    15:17:00   girZ             10.8792           17.882549   \n",
       "\n",
       "     arithmetic_average        RMS    median    variance activity  \n",
       "511              -0.052   0.163156    -0.050    0.023916  walking  \n",
       "512             666.000   0.692892   685.000    0.036544  walking  \n",
       "513               6.916  27.238885     1.445  694.125804  walking  \n",
       "514               7.036  19.043957  1465.000  313.166984  walking  \n",
       "515               3.546  18.230734     1.885  319.785544  walking  "
      ]
     },
     "execution_count": 5,
     "metadata": {},
     "output_type": "execute_result"
    }
   ],
   "source": [
    "df.tail(5)"
   ]
  },
  {
   "cell_type": "code",
   "execution_count": 6,
   "metadata": {},
   "outputs": [
    {
     "data": {
      "text/plain": [
       "False"
      ]
     },
     "execution_count": 6,
     "metadata": {},
     "output_type": "execute_result"
    }
   ],
   "source": [
    "df.isnull().values.any()"
   ]
  },
  {
   "cell_type": "code",
   "execution_count": 7,
   "metadata": {},
   "outputs": [],
   "source": [
    "from sklearn.model_selection import train_test_split"
   ]
  },
  {
   "cell_type": "code",
   "execution_count": 67,
   "metadata": {},
   "outputs": [],
   "source": [
    "features = ['median','RMS','standard_deviation', 'variance']"
   ]
  },
  {
   "cell_type": "code",
   "execution_count": 68,
   "metadata": {},
   "outputs": [],
   "source": [
    "pred = ['activity']"
   ]
  },
  {
   "cell_type": "code",
   "execution_count": 69,
   "metadata": {},
   "outputs": [],
   "source": [
    "X = df[features].values\n",
    "Y = df[pred].values"
   ]
  },
  {
   "cell_type": "code",
   "execution_count": 70,
   "metadata": {},
   "outputs": [],
   "source": [
    "split_size = 0.20"
   ]
  },
  {
   "cell_type": "code",
   "execution_count": 71,
   "metadata": {},
   "outputs": [],
   "source": [
    "X_treino, X_teste, Y_treino, Y_teste = train_test_split(X, Y, test_size = split_size, random_state=1)"
   ]
  },
  {
   "cell_type": "code",
   "execution_count": 72,
   "metadata": {},
   "outputs": [],
   "source": [
    "from sklearn.impute import SimpleImputer"
   ]
  },
  {
   "cell_type": "code",
   "execution_count": 73,
   "metadata": {},
   "outputs": [
    {
     "name": "stdout",
     "output_type": "stream",
     "text": [
      "0\n"
     ]
    }
   ],
   "source": [
    "print(len(df.loc[df['variance'] == 0]))"
   ]
  },
  {
   "cell_type": "code",
   "execution_count": 74,
   "metadata": {},
   "outputs": [],
   "source": [
    "preenche_0 = SimpleImputer(missing_values=0, strategy='mean')\n",
    "\n",
    "X_treino = preenche_0.fit_transform(X_treino)\n",
    "X_teste = preenche_0.fit_transform(X_teste)"
   ]
  },
  {
   "cell_type": "code",
   "execution_count": 75,
   "metadata": {},
   "outputs": [],
   "source": [
    "from sklearn.neural_network import MLPClassifier"
   ]
  },
  {
   "cell_type": "code",
   "execution_count": 76,
   "metadata": {},
   "outputs": [
    {
     "name": "stderr",
     "output_type": "stream",
     "text": [
      "C:\\ProgramData\\Anaconda3\\lib\\site-packages\\sklearn\\utils\\validation.py:73: DataConversionWarning: A column-vector y was passed when a 1d array was expected. Please change the shape of y to (n_samples, ), for example using ravel().\n",
      "  return f(**kwargs)\n"
     ]
    }
   ],
   "source": [
    "clf = MLPClassifier(random_state=1).fit(X_treino, Y_treino)"
   ]
  },
  {
   "cell_type": "code",
   "execution_count": 77,
   "metadata": {},
   "outputs": [
    {
     "data": {
      "text/plain": [
       "array(['lying_down', 'jumping', 'stopped', 'walking', 'lying_down',\n",
       "       'stopped', 'walking', 'jumping', 'stopped', 'stopped', 'walking',\n",
       "       'lying_down', 'lying_down', 'lying_down', 'lying_down', 'stopped',\n",
       "       'lying_down', 'lying_down', 'lying_down', 'lying_down', 'walking',\n",
       "       'jumping', 'lying_down', 'walking', 'lying_down', 'lying_down',\n",
       "       'walking', 'lying_down', 'stopped', 'stopped', 'lying_down',\n",
       "       'lying_down', 'lying_down', 'stopped', 'lying_down', 'lying_down',\n",
       "       'lying_down', 'stopped', 'lying_down', 'jumping', 'lying_down',\n",
       "       'walking', 'stopped', 'walking', 'lying_down', 'jumping',\n",
       "       'lying_down', 'jumping', 'lying_down', 'lying_down', 'walking',\n",
       "       'lying_down', 'stopped', 'stopped', 'stopped', 'lying_down',\n",
       "       'lying_down', 'stopped', 'stopped', 'stopped', 'lying_down',\n",
       "       'lying_down', 'jumping', 'stopped', 'walking', 'stopped',\n",
       "       'jumping', 'lying_down', 'lying_down', 'stopped', 'lying_down',\n",
       "       'walking', 'lying_down', 'jumping', 'lying_down', 'lying_down',\n",
       "       'stopped', 'stopped', 'stopped', 'jumping', 'jumping', 'stopped',\n",
       "       'lying_down', 'walking', 'jumping', 'stopped', 'jumping',\n",
       "       'lying_down', 'stopped', 'lying_down', 'lying_down', 'lying_down',\n",
       "       'jumping', 'jumping', 'lying_down', 'lying_down', 'stopped',\n",
       "       'lying_down', 'jumping', 'stopped', 'stopped', 'walking',\n",
       "       'jumping', 'lying_down'], dtype='<U10')"
      ]
     },
     "execution_count": 77,
     "metadata": {},
     "output_type": "execute_result"
    }
   ],
   "source": [
    "clf.predict(X_teste)"
   ]
  },
  {
   "cell_type": "code",
   "execution_count": 78,
   "metadata": {},
   "outputs": [
    {
     "data": {
      "text/plain": [
       "0.2980769230769231"
      ]
     },
     "execution_count": 78,
     "metadata": {},
     "output_type": "execute_result"
    }
   ],
   "source": [
    "clf.score(X_teste, Y_teste)"
   ]
  }
 ],
 "metadata": {
  "kernelspec": {
   "display_name": "Python 3",
   "language": "python",
   "name": "python3"
  },
  "language_info": {
   "codemirror_mode": {
    "name": "ipython",
    "version": 3
   },
   "file_extension": ".py",
   "mimetype": "text/x-python",
   "name": "python",
   "nbconvert_exporter": "python",
   "pygments_lexer": "ipython3",
   "version": "3.8.3"
  }
 },
 "nbformat": 4,
 "nbformat_minor": 4
}
