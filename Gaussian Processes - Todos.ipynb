{
 "cells": [
  {
   "cell_type": "code",
   "execution_count": 1,
   "metadata": {},
   "outputs": [],
   "source": [
    "#importa os modulos\n",
    "import pandas as pd\n",
    "import matplotlib.pyplot as plt\n",
    "import numpy as np\n",
    "%matplotlib inline"
   ]
  },
  {
   "cell_type": "code",
   "execution_count": 2,
   "metadata": {},
   "outputs": [],
   "source": [
    "#carrega o dataset\n",
    "df = pd.read_csv(\"datasetDog_v.2_WithActivity.csv\")"
   ]
  },
  {
   "cell_type": "code",
   "execution_count": 3,
   "metadata": {},
   "outputs": [
    {
     "data": {
      "text/plain": [
       "(516, 9)"
      ]
     },
     "execution_count": 3,
     "metadata": {},
     "output_type": "execute_result"
    }
   ],
   "source": [
    "#verificando o formato dos dados\n",
    "df.shape"
   ]
  },
  {
   "cell_type": "code",
   "execution_count": 4,
   "metadata": {},
   "outputs": [
    {
     "data": {
      "text/html": [
       "<div>\n",
       "<style scoped>\n",
       "    .dataframe tbody tr th:only-of-type {\n",
       "        vertical-align: middle;\n",
       "    }\n",
       "\n",
       "    .dataframe tbody tr th {\n",
       "        vertical-align: top;\n",
       "    }\n",
       "\n",
       "    .dataframe thead th {\n",
       "        text-align: right;\n",
       "    }\n",
       "</style>\n",
       "<table border=\"1\" class=\"dataframe\">\n",
       "  <thead>\n",
       "    <tr style=\"text-align: right;\">\n",
       "      <th></th>\n",
       "      <th>time_window</th>\n",
       "      <th>device</th>\n",
       "      <th>absolute_deviation</th>\n",
       "      <th>standard_deviation</th>\n",
       "      <th>arithmetic_average</th>\n",
       "      <th>RMS</th>\n",
       "      <th>median</th>\n",
       "      <th>variance</th>\n",
       "      <th>activity</th>\n",
       "    </tr>\n",
       "  </thead>\n",
       "  <tbody>\n",
       "    <tr>\n",
       "      <th>0</th>\n",
       "      <td>14:36:38</td>\n",
       "      <td>accX</td>\n",
       "      <td>0.1040</td>\n",
       "      <td>0.124036</td>\n",
       "      <td>65.000</td>\n",
       "      <td>0.140036</td>\n",
       "      <td>0.090</td>\n",
       "      <td>0.015385</td>\n",
       "      <td>stopped</td>\n",
       "    </tr>\n",
       "    <tr>\n",
       "      <th>1</th>\n",
       "      <td>14:36:38</td>\n",
       "      <td>accY</td>\n",
       "      <td>0.0282</td>\n",
       "      <td>0.036069</td>\n",
       "      <td>-0.007</td>\n",
       "      <td>0.036742</td>\n",
       "      <td>-0.020</td>\n",
       "      <td>0.001301</td>\n",
       "      <td>stopped</td>\n",
       "    </tr>\n",
       "    <tr>\n",
       "      <th>2</th>\n",
       "      <td>14:36:38</td>\n",
       "      <td>accZ</td>\n",
       "      <td>0.0320</td>\n",
       "      <td>0.043417</td>\n",
       "      <td>925.000</td>\n",
       "      <td>0.926018</td>\n",
       "      <td>0.930</td>\n",
       "      <td>0.001885</td>\n",
       "      <td>stopped</td>\n",
       "    </tr>\n",
       "    <tr>\n",
       "      <th>3</th>\n",
       "      <td>14:36:38</td>\n",
       "      <td>girX</td>\n",
       "      <td>12748.0000</td>\n",
       "      <td>16.690349</td>\n",
       "      <td>-5.710</td>\n",
       "      <td>17.640063</td>\n",
       "      <td>-0.055</td>\n",
       "      <td>278.567740</td>\n",
       "      <td>stopped</td>\n",
       "    </tr>\n",
       "    <tr>\n",
       "      <th>4</th>\n",
       "      <td>14:36:38</td>\n",
       "      <td>girY</td>\n",
       "      <td>33.1768</td>\n",
       "      <td>49.317552</td>\n",
       "      <td>-14892.000</td>\n",
       "      <td>51.516916</td>\n",
       "      <td>195.000</td>\n",
       "      <td>2432.220956</td>\n",
       "      <td>stopped</td>\n",
       "    </tr>\n",
       "    <tr>\n",
       "      <th>5</th>\n",
       "      <td>14:36:38</td>\n",
       "      <td>girZ</td>\n",
       "      <td>9.7610</td>\n",
       "      <td>14.912854</td>\n",
       "      <td>1.237</td>\n",
       "      <td>14.964069</td>\n",
       "      <td>1.560</td>\n",
       "      <td>222.393201</td>\n",
       "      <td>stopped</td>\n",
       "    </tr>\n",
       "  </tbody>\n",
       "</table>\n",
       "</div>"
      ],
      "text/plain": [
       "  time_window device  absolute_deviation  standard_deviation  \\\n",
       "0    14:36:38   accX              0.1040            0.124036   \n",
       "1    14:36:38   accY              0.0282            0.036069   \n",
       "2    14:36:38   accZ              0.0320            0.043417   \n",
       "3    14:36:38   girX          12748.0000           16.690349   \n",
       "4    14:36:38   girY             33.1768           49.317552   \n",
       "5    14:36:38   girZ              9.7610           14.912854   \n",
       "\n",
       "   arithmetic_average        RMS   median     variance activity  \n",
       "0              65.000   0.140036    0.090     0.015385  stopped  \n",
       "1              -0.007   0.036742   -0.020     0.001301  stopped  \n",
       "2             925.000   0.926018    0.930     0.001885  stopped  \n",
       "3              -5.710  17.640063   -0.055   278.567740  stopped  \n",
       "4          -14892.000  51.516916  195.000  2432.220956  stopped  \n",
       "5               1.237  14.964069    1.560   222.393201  stopped  "
      ]
     },
     "execution_count": 4,
     "metadata": {},
     "output_type": "execute_result"
    }
   ],
   "source": [
    "#verificando as primeiras linhas do dataset\n",
    "df.head(6)"
   ]
  },
  {
   "cell_type": "code",
   "execution_count": 5,
   "metadata": {},
   "outputs": [
    {
     "data": {
      "text/html": [
       "<div>\n",
       "<style scoped>\n",
       "    .dataframe tbody tr th:only-of-type {\n",
       "        vertical-align: middle;\n",
       "    }\n",
       "\n",
       "    .dataframe tbody tr th {\n",
       "        vertical-align: top;\n",
       "    }\n",
       "\n",
       "    .dataframe thead th {\n",
       "        text-align: right;\n",
       "    }\n",
       "</style>\n",
       "<table border=\"1\" class=\"dataframe\">\n",
       "  <thead>\n",
       "    <tr style=\"text-align: right;\">\n",
       "      <th></th>\n",
       "      <th>time_window</th>\n",
       "      <th>device</th>\n",
       "      <th>absolute_deviation</th>\n",
       "      <th>standard_deviation</th>\n",
       "      <th>arithmetic_average</th>\n",
       "      <th>RMS</th>\n",
       "      <th>median</th>\n",
       "      <th>variance</th>\n",
       "      <th>activity</th>\n",
       "    </tr>\n",
       "  </thead>\n",
       "  <tbody>\n",
       "    <tr>\n",
       "      <th>510</th>\n",
       "      <td>15:17:00</td>\n",
       "      <td>accX</td>\n",
       "      <td>0.2612</td>\n",
       "      <td>0.307838</td>\n",
       "      <td>0.594</td>\n",
       "      <td>0.669029</td>\n",
       "      <td>0.695</td>\n",
       "      <td>0.094764</td>\n",
       "      <td>walking</td>\n",
       "    </tr>\n",
       "    <tr>\n",
       "      <th>511</th>\n",
       "      <td>15:17:00</td>\n",
       "      <td>accY</td>\n",
       "      <td>0.1200</td>\n",
       "      <td>0.154648</td>\n",
       "      <td>-0.052</td>\n",
       "      <td>0.163156</td>\n",
       "      <td>-0.050</td>\n",
       "      <td>0.023916</td>\n",
       "      <td>walking</td>\n",
       "    </tr>\n",
       "    <tr>\n",
       "      <th>512</th>\n",
       "      <td>15:17:00</td>\n",
       "      <td>accZ</td>\n",
       "      <td>0.1548</td>\n",
       "      <td>0.191165</td>\n",
       "      <td>666.000</td>\n",
       "      <td>0.692892</td>\n",
       "      <td>685.000</td>\n",
       "      <td>0.036544</td>\n",
       "      <td>walking</td>\n",
       "    </tr>\n",
       "    <tr>\n",
       "      <th>513</th>\n",
       "      <td>15:17:00</td>\n",
       "      <td>girX</td>\n",
       "      <td>21.2392</td>\n",
       "      <td>26.346267</td>\n",
       "      <td>6.916</td>\n",
       "      <td>27.238885</td>\n",
       "      <td>1.445</td>\n",
       "      <td>694.125804</td>\n",
       "      <td>walking</td>\n",
       "    </tr>\n",
       "    <tr>\n",
       "      <th>514</th>\n",
       "      <td>15:17:00</td>\n",
       "      <td>girY</td>\n",
       "      <td>14.7552</td>\n",
       "      <td>17.696525</td>\n",
       "      <td>7.036</td>\n",
       "      <td>19.043957</td>\n",
       "      <td>1465.000</td>\n",
       "      <td>313.166984</td>\n",
       "      <td>walking</td>\n",
       "    </tr>\n",
       "    <tr>\n",
       "      <th>515</th>\n",
       "      <td>15:17:00</td>\n",
       "      <td>girZ</td>\n",
       "      <td>10.8792</td>\n",
       "      <td>17.882549</td>\n",
       "      <td>3.546</td>\n",
       "      <td>18.230734</td>\n",
       "      <td>1.885</td>\n",
       "      <td>319.785544</td>\n",
       "      <td>walking</td>\n",
       "    </tr>\n",
       "  </tbody>\n",
       "</table>\n",
       "</div>"
      ],
      "text/plain": [
       "    time_window device  absolute_deviation  standard_deviation  \\\n",
       "510    15:17:00   accX              0.2612            0.307838   \n",
       "511    15:17:00   accY              0.1200            0.154648   \n",
       "512    15:17:00   accZ              0.1548            0.191165   \n",
       "513    15:17:00   girX             21.2392           26.346267   \n",
       "514    15:17:00   girY             14.7552           17.696525   \n",
       "515    15:17:00   girZ             10.8792           17.882549   \n",
       "\n",
       "     arithmetic_average        RMS    median    variance activity  \n",
       "510               0.594   0.669029     0.695    0.094764  walking  \n",
       "511              -0.052   0.163156    -0.050    0.023916  walking  \n",
       "512             666.000   0.692892   685.000    0.036544  walking  \n",
       "513               6.916  27.238885     1.445  694.125804  walking  \n",
       "514               7.036  19.043957  1465.000  313.166984  walking  \n",
       "515               3.546  18.230734     1.885  319.785544  walking  "
      ]
     },
     "execution_count": 5,
     "metadata": {},
     "output_type": "execute_result"
    }
   ],
   "source": [
    "#verificando as ultimas linhas do dataset\n",
    "df.tail(6)"
   ]
  },
  {
   "cell_type": "code",
   "execution_count": 6,
   "metadata": {},
   "outputs": [
    {
     "data": {
      "text/plain": [
       "False"
      ]
     },
     "execution_count": 6,
     "metadata": {},
     "output_type": "execute_result"
    }
   ],
   "source": [
    "#verificando se existe valores nulos no dataset\n",
    "df.isnull().values.any()"
   ]
  },
  {
   "cell_type": "code",
   "execution_count": 7,
   "metadata": {},
   "outputs": [],
   "source": [
    "#Identificando a correlacao entre as variaveis\n",
    "#Correlacao nao implica casualidade\n",
    "def plot_corr (df, size=10):\n",
    "    corr = df.corr()\n",
    "    fig, ax = plt.subplots(figsize = (size,size))\n",
    "    ax.matshow(corr)\n",
    "    plt.xticks(range(len(corr.columns)), corr.columns)\n",
    "    plt.yticks(range(len(corr.columns)), corr.columns)"
   ]
  },
  {
   "cell_type": "code",
   "execution_count": 8,
   "metadata": {},
   "outputs": [
    {
     "data": {
      "image/png": "[encoded data removed]",
      "text/plain": [
       "<Figure size 720x720 with 1 Axes>"
      ]
     },
     "metadata": {
      "needs_background": "light"
     },
     "output_type": "display_data"
    }
   ],
   "source": [
    "#criando o grafico\n",
    "plot_corr(df)"
   ]
  },
  {
   "cell_type": "code",
   "execution_count": 9,
   "metadata": {},
   "outputs": [
    {
     "data": {
      "text/html": [
       "<div>\n",
       "<style scoped>\n",
       "    .dataframe tbody tr th:only-of-type {\n",
       "        vertical-align: middle;\n",
       "    }\n",
       "\n",
       "    .dataframe tbody tr th {\n",
       "        vertical-align: top;\n",
       "    }\n",
       "\n",
       "    .dataframe thead th {\n",
       "        text-align: right;\n",
       "    }\n",
       "</style>\n",
       "<table border=\"1\" class=\"dataframe\">\n",
       "  <thead>\n",
       "    <tr style=\"text-align: right;\">\n",
       "      <th></th>\n",
       "      <th>absolute_deviation</th>\n",
       "      <th>standard_deviation</th>\n",
       "      <th>arithmetic_average</th>\n",
       "      <th>RMS</th>\n",
       "      <th>median</th>\n",
       "      <th>variance</th>\n",
       "    </tr>\n",
       "  </thead>\n",
       "  <tbody>\n",
       "    <tr>\n",
       "      <th>absolute_deviation</th>\n",
       "      <td>1.000000</td>\n",
       "      <td>0.370879</td>\n",
       "      <td>0.036303</td>\n",
       "      <td>0.364619</td>\n",
       "      <td>-0.001178</td>\n",
       "      <td>0.324406</td>\n",
       "    </tr>\n",
       "    <tr>\n",
       "      <th>standard_deviation</th>\n",
       "      <td>0.370879</td>\n",
       "      <td>1.000000</td>\n",
       "      <td>-0.094227</td>\n",
       "      <td>0.997347</td>\n",
       "      <td>-0.064351</td>\n",
       "      <td>0.853333</td>\n",
       "    </tr>\n",
       "    <tr>\n",
       "      <th>arithmetic_average</th>\n",
       "      <td>0.036303</td>\n",
       "      <td>-0.094227</td>\n",
       "      <td>1.000000</td>\n",
       "      <td>-0.090997</td>\n",
       "      <td>0.296099</td>\n",
       "      <td>-0.181120</td>\n",
       "    </tr>\n",
       "    <tr>\n",
       "      <th>RMS</th>\n",
       "      <td>0.364619</td>\n",
       "      <td>0.997347</td>\n",
       "      <td>-0.090997</td>\n",
       "      <td>1.000000</td>\n",
       "      <td>-0.073792</td>\n",
       "      <td>0.845309</td>\n",
       "    </tr>\n",
       "    <tr>\n",
       "      <th>median</th>\n",
       "      <td>-0.001178</td>\n",
       "      <td>-0.064351</td>\n",
       "      <td>0.296099</td>\n",
       "      <td>-0.073792</td>\n",
       "      <td>1.000000</td>\n",
       "      <td>-0.075346</td>\n",
       "    </tr>\n",
       "    <tr>\n",
       "      <th>variance</th>\n",
       "      <td>0.324406</td>\n",
       "      <td>0.853333</td>\n",
       "      <td>-0.181120</td>\n",
       "      <td>0.845309</td>\n",
       "      <td>-0.075346</td>\n",
       "      <td>1.000000</td>\n",
       "    </tr>\n",
       "  </tbody>\n",
       "</table>\n",
       "</div>"
      ],
      "text/plain": [
       "                    absolute_deviation  standard_deviation  \\\n",
       "absolute_deviation            1.000000            0.370879   \n",
       "standard_deviation            0.370879            1.000000   \n",
       "arithmetic_average            0.036303           -0.094227   \n",
       "RMS                           0.364619            0.997347   \n",
       "median                       -0.001178           -0.064351   \n",
       "variance                      0.324406            0.853333   \n",
       "\n",
       "                    arithmetic_average       RMS    median  variance  \n",
       "absolute_deviation            0.036303  0.364619 -0.001178  0.324406  \n",
       "standard_deviation           -0.094227  0.997347 -0.064351  0.853333  \n",
       "arithmetic_average            1.000000 -0.090997  0.296099 -0.181120  \n",
       "RMS                          -0.090997  1.000000 -0.073792  0.845309  \n",
       "median                        0.296099 -0.073792  1.000000 -0.075346  \n",
       "variance                     -0.181120  0.845309 -0.075346  1.000000  "
      ]
     },
     "execution_count": 9,
     "metadata": {},
     "output_type": "execute_result"
    }
   ],
   "source": [
    "#Visualizando a correlacao em tabela\n",
    "#Coeficientes:\n",
    "#+1 = Forte corr. positiva | 0 = nao existe correlacao | -1 Forte corr. negativa\n",
    "df.corr()"
   ]
  },
  {
   "cell_type": "code",
   "execution_count": 10,
   "metadata": {},
   "outputs": [],
   "source": [
    "#defini o mapeamento\n",
    "map_activity = {'sitting':0, 'running':1, 'walking':2, 'jumping':3, 'lying_down':4, 'stopped':5}"
   ]
  },
  {
   "cell_type": "code",
   "execution_count": 11,
   "metadata": {},
   "outputs": [],
   "source": [
    "#aplica o mapeamento ao dataset\n",
    "df['activity'] = df['activity'].map(map_activity)"
   ]
  },
  {
   "cell_type": "code",
   "execution_count": 12,
   "metadata": {},
   "outputs": [
    {
     "data": {
      "text/html": [
       "<div>\n",
       "<style scoped>\n",
       "    .dataframe tbody tr th:only-of-type {\n",
       "        vertical-align: middle;\n",
       "    }\n",
       "\n",
       "    .dataframe tbody tr th {\n",
       "        vertical-align: top;\n",
       "    }\n",
       "\n",
       "    .dataframe thead th {\n",
       "        text-align: right;\n",
       "    }\n",
       "</style>\n",
       "<table border=\"1\" class=\"dataframe\">\n",
       "  <thead>\n",
       "    <tr style=\"text-align: right;\">\n",
       "      <th></th>\n",
       "      <th>time_window</th>\n",
       "      <th>device</th>\n",
       "      <th>absolute_deviation</th>\n",
       "      <th>standard_deviation</th>\n",
       "      <th>arithmetic_average</th>\n",
       "      <th>RMS</th>\n",
       "      <th>median</th>\n",
       "      <th>variance</th>\n",
       "      <th>activity</th>\n",
       "    </tr>\n",
       "  </thead>\n",
       "  <tbody>\n",
       "    <tr>\n",
       "      <th>0</th>\n",
       "      <td>14:36:38</td>\n",
       "      <td>accX</td>\n",
       "      <td>0.1040</td>\n",
       "      <td>0.124036</td>\n",
       "      <td>65.000</td>\n",
       "      <td>0.140036</td>\n",
       "      <td>0.090</td>\n",
       "      <td>0.015385</td>\n",
       "      <td>5</td>\n",
       "    </tr>\n",
       "    <tr>\n",
       "      <th>1</th>\n",
       "      <td>14:36:38</td>\n",
       "      <td>accY</td>\n",
       "      <td>0.0282</td>\n",
       "      <td>0.036069</td>\n",
       "      <td>-0.007</td>\n",
       "      <td>0.036742</td>\n",
       "      <td>-0.020</td>\n",
       "      <td>0.001301</td>\n",
       "      <td>5</td>\n",
       "    </tr>\n",
       "    <tr>\n",
       "      <th>2</th>\n",
       "      <td>14:36:38</td>\n",
       "      <td>accZ</td>\n",
       "      <td>0.0320</td>\n",
       "      <td>0.043417</td>\n",
       "      <td>925.000</td>\n",
       "      <td>0.926018</td>\n",
       "      <td>0.930</td>\n",
       "      <td>0.001885</td>\n",
       "      <td>5</td>\n",
       "    </tr>\n",
       "    <tr>\n",
       "      <th>3</th>\n",
       "      <td>14:36:38</td>\n",
       "      <td>girX</td>\n",
       "      <td>12748.0000</td>\n",
       "      <td>16.690349</td>\n",
       "      <td>-5.710</td>\n",
       "      <td>17.640063</td>\n",
       "      <td>-0.055</td>\n",
       "      <td>278.567740</td>\n",
       "      <td>5</td>\n",
       "    </tr>\n",
       "    <tr>\n",
       "      <th>4</th>\n",
       "      <td>14:36:38</td>\n",
       "      <td>girY</td>\n",
       "      <td>33.1768</td>\n",
       "      <td>49.317552</td>\n",
       "      <td>-14892.000</td>\n",
       "      <td>51.516916</td>\n",
       "      <td>195.000</td>\n",
       "      <td>2432.220956</td>\n",
       "      <td>5</td>\n",
       "    </tr>\n",
       "    <tr>\n",
       "      <th>5</th>\n",
       "      <td>14:36:38</td>\n",
       "      <td>girZ</td>\n",
       "      <td>9.7610</td>\n",
       "      <td>14.912854</td>\n",
       "      <td>1.237</td>\n",
       "      <td>14.964069</td>\n",
       "      <td>1.560</td>\n",
       "      <td>222.393201</td>\n",
       "      <td>5</td>\n",
       "    </tr>\n",
       "  </tbody>\n",
       "</table>\n",
       "</div>"
      ],
      "text/plain": [
       "  time_window device  absolute_deviation  standard_deviation  \\\n",
       "0    14:36:38   accX              0.1040            0.124036   \n",
       "1    14:36:38   accY              0.0282            0.036069   \n",
       "2    14:36:38   accZ              0.0320            0.043417   \n",
       "3    14:36:38   girX          12748.0000           16.690349   \n",
       "4    14:36:38   girY             33.1768           49.317552   \n",
       "5    14:36:38   girZ              9.7610           14.912854   \n",
       "\n",
       "   arithmetic_average        RMS   median     variance  activity  \n",
       "0              65.000   0.140036    0.090     0.015385         5  \n",
       "1              -0.007   0.036742   -0.020     0.001301         5  \n",
       "2             925.000   0.926018    0.930     0.001885         5  \n",
       "3              -5.710  17.640063   -0.055   278.567740         5  \n",
       "4          -14892.000  51.516916  195.000  2432.220956         5  \n",
       "5               1.237  14.964069    1.560   222.393201         5  "
      ]
     },
     "execution_count": 12,
     "metadata": {},
     "output_type": "execute_result"
    }
   ],
   "source": [
    "#verificando as primeiras linhas do dataset\n",
    "df.head(6)"
   ]
  },
  {
   "cell_type": "code",
   "execution_count": 13,
   "metadata": {},
   "outputs": [
    {
     "name": "stdout",
     "output_type": "stream",
     "text": [
      "Ocorrência da atividade 'sentado': 36 (6.98%)\n",
      "Ocorrência da atividade 'correndo': 0 (0.00%)\n",
      "Ocorrência da atividade 'caminhando': 162 (31.40%)\n",
      "Ocorrência da atividade 'pulando': 60 (11.63%)\n",
      "Ocorrência da atividade 'deitado': 120 (23.26%)\n",
      "Ocorrência da atividade 'parado': 138 (26.74%)\n"
     ]
    }
   ],
   "source": [
    "#verificando a distribuicao dos dados\n",
    "num_sitting = len(df.loc[df['activity'] == 0 ])\n",
    "num_running = len(df.loc[df['activity'] == 1 ])\n",
    "num_walking = len(df.loc[df['activity'] == 2 ])\n",
    "num_jumping = len(df.loc[df['activity'] == 3 ])\n",
    "num_lying_down = len(df.loc[df['activity'] == 4 ])\n",
    "num_stopped = len(df.loc[df['activity'] == 5 ])\n",
    "\n",
    "#verifica o total de ocorrencias\n",
    "total = num_sitting + num_running + num_walking + num_jumping + num_lying_down + num_stopped\n",
    "\n",
    "#imprime a distribuicao reconhecida\n",
    "print(\"Ocorrência da atividade 'sentado': {0} ({1:2.2f}%)\".format(num_sitting, (num_sitting / total)*100))\n",
    "print(\"Ocorrência da atividade 'correndo': {0} ({1:2.2f}%)\".format(num_running, (num_running / total)*100))\n",
    "print(\"Ocorrência da atividade 'caminhando': {0} ({1:2.2f}%)\".format(num_walking, (num_walking / total)*100))\n",
    "print(\"Ocorrência da atividade 'pulando': {0} ({1:2.2f}%)\".format(num_jumping, (num_jumping / total)*100))\n",
    "print(\"Ocorrência da atividade 'deitado': {0} ({1:2.2f}%)\".format(num_lying_down, (num_lying_down / total)*100))\n",
    "print(\"Ocorrência da atividade 'parado': {0} ({1:2.2f}%)\".format(num_stopped, (num_stopped / total)*100))\n",
    "\n"
   ]
  },
  {
   "cell_type": "code",
   "execution_count": 14,
   "metadata": {},
   "outputs": [],
   "source": [
    "from sklearn.model_selection import train_test_split"
   ]
  },
  {
   "cell_type": "code",
   "execution_count": 15,
   "metadata": {},
   "outputs": [],
   "source": [
    "#Seleciona as variaveis\n",
    "features = ['absolute_deviation', 'standard_deviation', 'arithmetic_average', 'RMS', 'median', 'variance']"
   ]
  },
  {
   "cell_type": "code",
   "execution_count": 16,
   "metadata": {},
   "outputs": [],
   "source": [
    "#Defini a variavel a ser prevista\n",
    "feat_predicted = ['activity']"
   ]
  },
  {
   "cell_type": "code",
   "execution_count": 17,
   "metadata": {},
   "outputs": [],
   "source": [
    "#Cria os objetos\n",
    "X = df[features].values\n",
    "Y = df[feat_predicted].values"
   ]
  },
  {
   "cell_type": "code",
   "execution_count": 18,
   "metadata": {},
   "outputs": [],
   "source": [
    "#Defini o tamanho da base de teste (split)\n",
    "split_test_size = 0.80"
   ]
  },
  {
   "cell_type": "code",
   "execution_count": 19,
   "metadata": {},
   "outputs": [],
   "source": [
    "#Criano dados de treino e de teste\n",
    "X_training, X_test, Y_training, Y_test = train_test_split(X,Y, test_size = split_test_size, random_state=42)"
   ]
  },
  {
   "cell_type": "code",
   "execution_count": 20,
   "metadata": {},
   "outputs": [
    {
     "name": "stdout",
     "output_type": "stream",
     "text": [
      "19.96% para dados de treino\n",
      "80.04% para dados de teste\n"
     ]
    }
   ],
   "source": [
    "#Imprime os resultados da definicao \n",
    "print(\"{0:0.2f}% para dados de treino\".format((len(X_training)/len(df.index))*100))\n",
    "print(\"{0:0.2f}% para dados de teste\".format((len(X_test)/len(df.index))*100))"
   ]
  },
  {
   "cell_type": "code",
   "execution_count": 21,
   "metadata": {},
   "outputs": [
    {
     "name": "stdout",
     "output_type": "stream",
     "text": [
      "Original - Sentado : 36 (6.98%)\n",
      "Original - Correndo : 0 (0.00%)\n",
      "Original - Caminhando : 162 (31.40%)\n",
      "Original - Pulando : 60 (11.63%)\n",
      "Original - Deitado : 120 (23.26%)\n",
      "Original - Parado : 138 (26.74%)\n",
      "\n",
      "Treino - Sentado : 7 (6.80%)\n",
      "Treino - Correndo : 0 (0.00%)\n",
      "Treino - Caminhando : 32 (31.07%)\n",
      "Treino - Pulando : 13 (12.62%)\n",
      "Treino - Deitado : 28 (27.18%)\n",
      "Treino - Parado : 23 (22.33%)\n",
      "\n",
      "Teste - Sentado : 29 (7.02%)\n",
      "Teste - Correndo : 0 (0.00%)\n",
      "Teste - Caminhando : 130 (31.48%)\n",
      "Teste - Pulando : 47 (11.38%)\n",
      "Teste - Deitado : 92 (22.28%)\n",
      "Teste - Parado : 115 (27.85%)\n"
     ]
    }
   ],
   "source": [
    "#Dados do dataset original\n",
    "print(\"Original - Sentado : {0} ({1:0.2f}%)\".format(len(df.loc[df['activity'] == 0]), (len(df.loc[df['activity'] == 0])/len(df.index)*100)))\n",
    "print(\"Original - Correndo : {0} ({1:0.2f}%)\".format(len(df.loc[df['activity'] == 1]), (len(df.loc[df['activity'] == 1])/len(df.index)*100)))\n",
    "print(\"Original - Caminhando : {0} ({1:0.2f}%)\".format(len(df.loc[df['activity'] == 2]), (len(df.loc[df['activity'] == 2])/len(df.index)*100)))\n",
    "print(\"Original - Pulando : {0} ({1:0.2f}%)\".format(len(df.loc[df['activity'] == 3]), (len(df.loc[df['activity'] == 3])/len(df.index)*100)))\n",
    "print(\"Original - Deitado : {0} ({1:0.2f}%)\".format(len(df.loc[df['activity'] == 4]), (len(df.loc[df['activity'] == 4])/len(df.index)*100)))\n",
    "print(\"Original - Parado : {0} ({1:0.2f}%)\".format(len(df.loc[df['activity'] == 5]), (len(df.loc[df['activity'] == 5])/len(df.index)*100)))\n",
    "print(\"\")\n",
    "#Dados do dataset de treino\n",
    "print(\"Treino - Sentado : {0} ({1:0.2f}%)\".format(len(Y_training[Y_training[:] == 0]), (len(Y_training[Y_training[:] == 0])/len(Y_training)*100)))\n",
    "print(\"Treino - Correndo : {0} ({1:0.2f}%)\".format(len(Y_training[Y_training[:] == 1]), (len(Y_training[Y_training[:] == 1])/len(Y_training)*100)))\n",
    "print(\"Treino - Caminhando : {0} ({1:0.2f}%)\".format(len(Y_training[Y_training[:] == 2]), (len(Y_training[Y_training[:] == 2])/len(Y_training)*100)))\n",
    "print(\"Treino - Pulando : {0} ({1:0.2f}%)\".format(len(Y_training[Y_training[:] == 3]), (len(Y_training[Y_training[:] == 3])/len(Y_training)*100)))\n",
    "print(\"Treino - Deitado : {0} ({1:0.2f}%)\".format(len(Y_training[Y_training[:] == 4]), (len(Y_training[Y_training[:] == 4])/len(Y_training)*100)))\n",
    "print(\"Treino - Parado : {0} ({1:0.2f}%)\".format(len(Y_training[Y_training[:] == 5]), (len(Y_training[Y_training[:] == 5])/len(Y_training)*100)))\n",
    "print(\"\")\n",
    "#Dados do dataset de teste\n",
    "print(\"Teste - Sentado : {0} ({1:0.2f}%)\".format(len(Y_test[Y_test[:] == 0]), (len(Y_test[Y_test[:] == 0])/len(Y_test)*100)))\n",
    "print(\"Teste - Correndo : {0} ({1:0.2f}%)\".format(len(Y_test[Y_test[:] == 1]), (len(Y_test[Y_test[:] == 1])/len(Y_test)*100)))\n",
    "print(\"Teste - Caminhando : {0} ({1:0.2f}%)\".format(len(Y_test[Y_test[:] == 2]), (len(Y_test[Y_test[:] == 2])/len(Y_test)*100)))\n",
    "print(\"Teste - Pulando : {0} ({1:0.2f}%)\".format(len(Y_test[Y_test[:] == 3]), (len(Y_test[Y_test[:] == 3])/len(Y_test)*100)))\n",
    "print(\"Teste - Deitado : {0} ({1:0.2f}%)\".format(len(Y_test[Y_test[:] == 4]), (len(Y_test[Y_test[:] == 4])/len(Y_test)*100)))\n",
    "print(\"Teste - Parado : {0} ({1:0.2f}%)\".format(len(Y_test[Y_test[:] == 5]), (len(Y_test[Y_test[:] == 5])/len(Y_test)*100)))\n",
    "            "
   ]
  },
  {
   "cell_type": "code",
   "execution_count": 22,
   "metadata": {},
   "outputs": [
    {
     "data": {
      "text/html": [
       "<div>\n",
       "<style scoped>\n",
       "    .dataframe tbody tr th:only-of-type {\n",
       "        vertical-align: middle;\n",
       "    }\n",
       "\n",
       "    .dataframe tbody tr th {\n",
       "        vertical-align: top;\n",
       "    }\n",
       "\n",
       "    .dataframe thead th {\n",
       "        text-align: right;\n",
       "    }\n",
       "</style>\n",
       "<table border=\"1\" class=\"dataframe\">\n",
       "  <thead>\n",
       "    <tr style=\"text-align: right;\">\n",
       "      <th></th>\n",
       "      <th>time_window</th>\n",
       "      <th>device</th>\n",
       "      <th>absolute_deviation</th>\n",
       "      <th>standard_deviation</th>\n",
       "      <th>arithmetic_average</th>\n",
       "      <th>RMS</th>\n",
       "      <th>median</th>\n",
       "      <th>variance</th>\n",
       "      <th>activity</th>\n",
       "    </tr>\n",
       "  </thead>\n",
       "  <tbody>\n",
       "    <tr>\n",
       "      <th>0</th>\n",
       "      <td>14:36:38</td>\n",
       "      <td>accX</td>\n",
       "      <td>0.1040</td>\n",
       "      <td>0.124036</td>\n",
       "      <td>65.000</td>\n",
       "      <td>0.140036</td>\n",
       "      <td>0.090</td>\n",
       "      <td>0.015385</td>\n",
       "      <td>5</td>\n",
       "    </tr>\n",
       "    <tr>\n",
       "      <th>1</th>\n",
       "      <td>14:36:38</td>\n",
       "      <td>accY</td>\n",
       "      <td>0.0282</td>\n",
       "      <td>0.036069</td>\n",
       "      <td>-0.007</td>\n",
       "      <td>0.036742</td>\n",
       "      <td>-0.020</td>\n",
       "      <td>0.001301</td>\n",
       "      <td>5</td>\n",
       "    </tr>\n",
       "    <tr>\n",
       "      <th>2</th>\n",
       "      <td>14:36:38</td>\n",
       "      <td>accZ</td>\n",
       "      <td>0.0320</td>\n",
       "      <td>0.043417</td>\n",
       "      <td>925.000</td>\n",
       "      <td>0.926018</td>\n",
       "      <td>0.930</td>\n",
       "      <td>0.001885</td>\n",
       "      <td>5</td>\n",
       "    </tr>\n",
       "    <tr>\n",
       "      <th>3</th>\n",
       "      <td>14:36:38</td>\n",
       "      <td>girX</td>\n",
       "      <td>12748.0000</td>\n",
       "      <td>16.690349</td>\n",
       "      <td>-5.710</td>\n",
       "      <td>17.640063</td>\n",
       "      <td>-0.055</td>\n",
       "      <td>278.567740</td>\n",
       "      <td>5</td>\n",
       "    </tr>\n",
       "    <tr>\n",
       "      <th>4</th>\n",
       "      <td>14:36:38</td>\n",
       "      <td>girY</td>\n",
       "      <td>33.1768</td>\n",
       "      <td>49.317552</td>\n",
       "      <td>-14892.000</td>\n",
       "      <td>51.516916</td>\n",
       "      <td>195.000</td>\n",
       "      <td>2432.220956</td>\n",
       "      <td>5</td>\n",
       "    </tr>\n",
       "  </tbody>\n",
       "</table>\n",
       "</div>"
      ],
      "text/plain": [
       "  time_window device  absolute_deviation  standard_deviation  \\\n",
       "0    14:36:38   accX              0.1040            0.124036   \n",
       "1    14:36:38   accY              0.0282            0.036069   \n",
       "2    14:36:38   accZ              0.0320            0.043417   \n",
       "3    14:36:38   girX          12748.0000           16.690349   \n",
       "4    14:36:38   girY             33.1768           49.317552   \n",
       "\n",
       "   arithmetic_average        RMS   median     variance  activity  \n",
       "0              65.000   0.140036    0.090     0.015385         5  \n",
       "1              -0.007   0.036742   -0.020     0.001301         5  \n",
       "2             925.000   0.926018    0.930     0.001885         5  \n",
       "3              -5.710  17.640063   -0.055   278.567740         5  \n",
       "4          -14892.000  51.516916  195.000  2432.220956         5  "
      ]
     },
     "execution_count": 22,
     "metadata": {},
     "output_type": "execute_result"
    }
   ],
   "source": [
    "df.head(5)"
   ]
  },
  {
   "cell_type": "code",
   "execution_count": 23,
   "metadata": {},
   "outputs": [
    {
     "name": "stdout",
     "output_type": "stream",
     "text": [
      "Linhas do dataframe - 516\n",
      "Linhas 'perdidas' no desvio absoluto - 0\n",
      "Linhas 'perdidas' no desvio padrão - 0\n",
      "Linhas 'perdidas' na média aritmética - 0\n",
      "Linhas 'perdidas' na média quadrática - 0\n",
      "Linhas 'perdidas' na mediana - 5\n",
      "Linhas 'perdidas' na variância - 0\n"
     ]
    }
   ],
   "source": [
    "print(\"Linhas do dataframe - {0}\".format(len(df)))\n",
    "print(\"Linhas 'perdidas' no desvio absoluto - {0}\".format(len(df.loc[df['absolute_deviation'] == 0])))\n",
    "print(\"Linhas 'perdidas' no desvio padrão - {0}\".format(len(df.loc[df['standard_deviation'] == 0])))\n",
    "print(\"Linhas 'perdidas' na média aritmética - {0}\".format(len(df.loc[df['arithmetic_average'] == 0])))\n",
    "print(\"Linhas 'perdidas' na média quadrática - {0}\".format(len(df.loc[df['RMS'] == 0])))\n",
    "print(\"Linhas 'perdidas' na mediana - {0}\".format(len(df.loc[df['median'] == 0])))\n",
    "print(\"Linhas 'perdidas' na variância - {0}\".format(len(df.loc[df['variance'] == 0])))"
   ]
  },
  {
   "cell_type": "code",
   "execution_count": 24,
   "metadata": {},
   "outputs": [],
   "source": [
    "from sklearn.impute import SimpleImputer"
   ]
  },
  {
   "cell_type": "code",
   "execution_count": 25,
   "metadata": {},
   "outputs": [],
   "source": [
    "#Criando objeto\n",
    "exchange_Zero = SimpleImputer(missing_values = 0, strategy = \"mean\")\n",
    "\n",
    "#Substituindo os valores iguais a zero pela media dos dados\n",
    "X_training = exchange_Zero.fit_transform(X_training)\n",
    "X_test = exchange_Zero.fit_transform(X_test)"
   ]
  },
  {
   "cell_type": "code",
   "execution_count": 26,
   "metadata": {},
   "outputs": [
    {
     "data": {
      "text/plain": [
       "GaussianProcessClassifier()"
      ]
     },
     "execution_count": 26,
     "metadata": {},
     "output_type": "execute_result"
    }
   ],
   "source": [
    "#Defini o modelo GaussianProcess\n",
    "from sklearn.gaussian_process import GaussianProcessClassifier\n",
    "\n",
    "model =  GaussianProcessClassifier()\n",
    "model.fit(X_training, Y_training.ravel())\n",
    "\n"
   ]
  },
  {
   "cell_type": "code",
   "execution_count": 27,
   "metadata": {},
   "outputs": [
    {
     "data": {
      "text/plain": [
       "0.3220338983050847"
      ]
     },
     "execution_count": 27,
     "metadata": {},
     "output_type": "execute_result"
    }
   ],
   "source": [
    "#Calcula a acuracia\n",
    "\n",
    "model.score(X_test, Y_test)"
   ]
  },
  {
   "cell_type": "code",
   "execution_count": null,
   "metadata": {},
   "outputs": [],
   "source": []
  }
 ],
 "metadata": {
  "kernelspec": {
   "display_name": "Python 3",
   "language": "python",
   "name": "python3"
  },
  "language_info": {
   "codemirror_mode": {
    "name": "ipython",
    "version": 3
   },
   "file_extension": ".py",
   "mimetype": "text/x-python",
   "name": "python",
   "nbconvert_exporter": "python",
   "pygments_lexer": "ipython3",
   "version": "3.8.5"
  }
 },
 "nbformat": 4,
 "nbformat_minor": 4
}
